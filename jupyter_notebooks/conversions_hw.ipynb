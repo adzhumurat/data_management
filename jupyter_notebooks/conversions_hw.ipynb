{
 "cells": [
  {
   "cell_type": "markdown",
   "metadata": {},
   "source": [
    "# Вычисление конверсии\n",
    "\n",
    "Например, рассмотрим продуктовую метрику \"конверсия из показа карточки контента в просмотр\":  \n",
    "* пользователь заходит на главную страницу ivi\n",
    "* рекомендательная система показывает постеры нескольких карточек контента\n",
    "* если рекомендательная система угадала вкусы пользователя - начинается просмотр контента. Если выдача рекомендаций пользователю не подходит - событие \"просмотр контента\" не возникает\n",
    "\n",
    "![main_page_ivi](img/main_page_ivi.png)\n",
    "\n",
    "Вычислим эту метрику с помощью SQL на основании данных событийной аналитики\n",
    "* берём только события с платформ `xboxOne` и `Windows 10`\n",
    "* тип события `page_impression` (показ контента) и `click` (клик по постеру)\n",
    "* валидация событий: просмотры, у которых отсутствует `impression` из выборки исключаем\n",
    "* считаем конверсию по датам в разбивке по платформам\n",
    "\n",
    "Цель исследования - понять, есть ли отличия в конверсии между просмотрами на платформах `xboxOne` и `Windows 10`"
   ]
  },
  {
   "cell_type": "code",
   "execution_count": 14,
   "metadata": {},
   "outputs": [
    {
     "data": {
      "text/html": [
       "<div>\n",
       "<style scoped>\n",
       "    .dataframe tbody tr th:only-of-type {\n",
       "        vertical-align: middle;\n",
       "    }\n",
       "\n",
       "    .dataframe tbody tr th {\n",
       "        vertical-align: top;\n",
       "    }\n",
       "\n",
       "    .dataframe thead th {\n",
       "        text-align: right;\n",
       "    }\n",
       "</style>\n",
       "<table border=\"1\" class=\"dataframe\">\n",
       "  <thead>\n",
       "    <tr style=\"text-align: right;\">\n",
       "      <th></th>\n",
       "      <th>user_id_for_mai</th>\n",
       "      <th>num_actions</th>\n",
       "    </tr>\n",
       "  </thead>\n",
       "  <tbody>\n",
       "    <tr>\n",
       "      <th>0</th>\n",
       "      <td>5069085339</td>\n",
       "      <td>57269</td>\n",
       "    </tr>\n",
       "    <tr>\n",
       "      <th>1</th>\n",
       "      <td>5053362246</td>\n",
       "      <td>38221</td>\n",
       "    </tr>\n",
       "    <tr>\n",
       "      <th>2</th>\n",
       "      <td>1330869843</td>\n",
       "      <td>30485</td>\n",
       "    </tr>\n",
       "    <tr>\n",
       "      <th>3</th>\n",
       "      <td>5051497926</td>\n",
       "      <td>25133</td>\n",
       "    </tr>\n",
       "    <tr>\n",
       "      <th>4</th>\n",
       "      <td>5069470050</td>\n",
       "      <td>24636</td>\n",
       "    </tr>\n",
       "  </tbody>\n",
       "</table>\n",
       "</div>"
      ],
      "text/plain": [
       "   user_id_for_mai  num_actions\n",
       "0       5069085339        57269\n",
       "1       5053362246        38221\n",
       "2       1330869843        30485\n",
       "3       5051497926        25133\n",
       "4       5069470050        24636"
      ]
     },
     "execution_count": 14,
     "metadata": {},
     "output_type": "execute_result"
    }
   ],
   "source": [
    "import os\n",
    "import pandas as pd\n",
    "from sqlalchemy import create_engine\n",
    "\n",
    "\n",
    "postgres_host = os.environ['APP_POSTGRES_HOST'] # '40.89.151.14'\n",
    "database = 'postgres'\n",
    "port = '5432' # '5433'\n",
    "user = 'postgres'\n",
    "# user = 'mai'\n",
    "# password = '1930'\n",
    "\n",
    "engine = create_engine(\n",
    "    f'postgresql://{user}:{password}@{postgres_host}:{port}/{database}'\n",
    ")\n",
    "\n",
    "\n",
    "sql_str = \"\"\"\n",
    "    SELECT\n",
    "        user_id_for_mai,\n",
    "        COUNT(*) as num_actions\n",
    "    FROM movie.events\n",
    "    GROUP BY user_id_for_mai\n",
    "    ORDER BY 2 DESC\n",
    "    LIMIT 100\n",
    "\"\"\"\n",
    "\n",
    "user_actions_count_df = pd.read_sql(sql_str, engine)\n",
    "user_actions_count_df.head()"
   ]
  },
  {
   "cell_type": "code",
   "execution_count": 27,
   "metadata": {},
   "outputs": [],
   "source": [
    "# Создаём переменную окружения с вашим именем\n",
    "\n",
    "os.environ['STUDENT_USERNAME'] = 'adzhumurat'"
   ]
  },
  {
   "cell_type": "markdown",
   "metadata": {},
   "source": [
    "# Задание 1\n",
    "\n",
    "Поле `subsite_title` содержит в себе идентификатор, объединяющий платформу и страну, где произошло конкретное событие.\n",
    "\n",
    "Посчитайте с помощью `GROUP BY` число событий в каждом `subsite_title` и отсортируйте полученный список *по убыванию* счётчика событий. "
   ]
  },
  {
   "cell_type": "code",
   "execution_count": null,
   "metadata": {},
   "outputs": [],
   "source": [
    "pd.read_sql(\n",
    "    \"\"\"\n",
    "    /* ------------------------ */\n",
    "    /* --- ВАШ КОД ТУТ -------- */\n",
    "    SELECT\n",
    "        COUNT(*) as num_actions\n",
    "    FROM movie.events\n",
    "    /* ------------------------ */\n",
    "    \"\"\",\n",
    "    engine\n",
    ").head(40)"
   ]
  },
  {
   "cell_type": "markdown",
   "metadata": {},
   "source": [
    "## Ответьте на несколько вопросов:\n",
    "\n",
    "**Вопрос 1:** на каких двух `subsite_title` больше всего событий?"
   ]
  },
  {
   "cell_type": "code",
   "execution_count": 23,
   "metadata": {},
   "outputs": [
    {
     "name": "stdout",
     "output_type": "stream",
     "text": [
      "\n",
      "    ВАШ ОТВЕТ\n",
      "\n"
     ]
    }
   ],
   "source": [
    "print(\"\"\"\n",
    "    ВАШ ОТВЕТ\n",
    "\"\"\")"
   ]
  },
  {
   "cell_type": "markdown",
   "metadata": {},
   "source": [
    "**Вопрос 2**: Сколько всего различных `subsite_title` в наборе даных?"
   ]
  },
  {
   "cell_type": "code",
   "execution_count": 28,
   "metadata": {},
   "outputs": [
    {
     "name": "stdout",
     "output_type": "stream",
     "text": [
      "\n",
      "    ВАШ ОТВЕТ\n",
      "    adzhumurat\n",
      "\n"
     ]
    }
   ],
   "source": [
    "print(f\"\"\"\n",
    "    ВАШ ОТВЕТ\n",
    "    \n",
    "    {os.environ['STUDENT_USERNAME']}\n",
    "\"\"\")"
   ]
  },
  {
   "cell_type": "markdown",
   "metadata": {},
   "source": [
    "**Вопрос 3**: На каком `subsite_title` меньше всего событий?"
   ]
  },
  {
   "cell_type": "code",
   "execution_count": 29,
   "metadata": {},
   "outputs": [
    {
     "name": "stdout",
     "output_type": "stream",
     "text": [
      "\n",
      "    ВАШ ОТВЕТ\n",
      "    \n",
      "    adzhumurat\n",
      "\n"
     ]
    }
   ],
   "source": [
    "print(f\"\"\"\n",
    "    ВАШ ОТВЕТ\n",
    "    \n",
    "    {os.environ['STUDENT_USERNAME']}\n",
    "\"\"\")"
   ]
  },
  {
   "cell_type": "markdown",
   "metadata": {},
   "source": [
    "# Задание 2\n",
    "\n",
    "Примените к выборке фильтрацию\n",
    "\n",
    "* оставьте события только с двух самых популярных `subsite_title` (из предыдущего задания)\n",
    "* уберите все events, у которых `content_id <= 0`\n",
    "\n",
    "Далее после фильтров вычислите количество событий **по дням**, для этого\n",
    "\n",
    "* превратите `rocket_datetime` в строку вида `YYYY-MM-DD` и назовите новое поле `dt`\n",
    "* сгруппируйте данные по `dt`\n",
    "* посчитайте внутри дня сумму событий `actions_count` и отсортируйте выборку по возрастанию поля `dt`\n",
    "* сохраните выборку в `pandas.DataFrame` с названием `activity_by_dt_df`\n",
    "* нарисуйте с помощью метода `activity_by_dt_df.plot()` картинку с активностью по дням\n",
    "\n",
    "Результат должен получится примерно такой:"
   ]
  },
  {
   "cell_type": "markdown",
   "metadata": {},
   "source": [
    "![actions_count_by_dt](img/actions_count_by_dt.png)"
   ]
  },
  {
   "cell_type": "code",
   "execution_count": 37,
   "metadata": {},
   "outputs": [],
   "source": [
    "# -------------- ВАШ КОД ТУТ -------------- #\n",
    "\n",
    "\n",
    "\n",
    "\n",
    "# ----------------------------------------- #"
   ]
  },
  {
   "cell_type": "markdown",
   "metadata": {},
   "source": [
    "# Задание 3\n",
    "\n",
    "\n",
    "Нужно сформировать выборку на которой посчитаем конверсию и сохранить запрос в переменную `raw_stat_sql_str`\n",
    "\n",
    "Для каждой пары пользователь + контент нужно выяснить 2 вещи:\n",
    "* видел ли пользователь карточку контента\n",
    "* совершил ли он просмотр данного контента\n",
    "\n",
    "Для этого\n",
    "\n",
    "* добавьте в группировку из предыдущего запроса поля `user_id_for_mai`, `content_id`, `subsite_title`\n",
    "* добавьте аггрегированное поле `MAX(CASE WHEN name in ('page_impression', 'click') THEN 1 ELSE 0 END) as content_impression`\n",
    "* добавьте аггрегированное поле `MAX(CASE WHEN name='content_watch' THEN 1 ELSE 0 END) as content_watch`\n",
    "\n",
    "Код ниже выводит общее количество событий в полученной выборке - должно быть `301276` записей."
   ]
  },
  {
   "cell_type": "code",
   "execution_count": 39,
   "metadata": {},
   "outputs": [
    {
     "data": {
      "text/html": [
       "<div>\n",
       "<style scoped>\n",
       "    .dataframe tbody tr th:only-of-type {\n",
       "        vertical-align: middle;\n",
       "    }\n",
       "\n",
       "    .dataframe tbody tr th {\n",
       "        vertical-align: top;\n",
       "    }\n",
       "\n",
       "    .dataframe thead th {\n",
       "        text-align: right;\n",
       "    }\n",
       "</style>\n",
       "<table border=\"1\" class=\"dataframe\">\n",
       "  <thead>\n",
       "    <tr style=\"text-align: right;\">\n",
       "      <th></th>\n",
       "      <th>count</th>\n",
       "    </tr>\n",
       "  </thead>\n",
       "  <tbody>\n",
       "    <tr>\n",
       "      <th>0</th>\n",
       "      <td>301276</td>\n",
       "    </tr>\n",
       "  </tbody>\n",
       "</table>\n",
       "</div>"
      ],
      "text/plain": [
       "    count\n",
       "0  301276"
      ]
     },
     "execution_count": 39,
     "metadata": {},
     "output_type": "execute_result"
    }
   ],
   "source": [
    "raw_stat_sql_str = \"\"\"\n",
    "    /* ------------------------ */\n",
    "    /* --- ВАШ КОД ТУТ -------- */\n",
    "    SELECT\n",
    "        COUNT(*) as num_actions\n",
    "    FROM movie.events\n",
    "    /* ------------------------ */\n",
    "\"\"\"\n",
    "\n",
    "# Дальше ничего менять не нужно\n",
    "user_actions_agg_df = pd.read_sql(\n",
    "    f\"\"\"\n",
    "        SELECT\n",
    "            COUNT(*) as raw_stat_count\n",
    "        FROM (\n",
    "            {raw_stat_sql_str}\n",
    "        ) as raw_stat\n",
    "    \"\"\",\n",
    "    engine\n",
    ")\n",
    "user_actions_agg_df.head()"
   ]
  },
  {
   "cell_type": "markdown",
   "metadata": {},
   "source": [
    "# Расчёт конверсии\n",
    "\n",
    "Если всё сделали правильно - код ниже выведет значение конверсии по дням для двух самых популярных `subsite_title` в виде таблички"
   ]
  },
  {
   "cell_type": "code",
   "execution_count": 40,
   "metadata": {},
   "outputs": [
    {
     "data": {
      "text/html": [
       "<div>\n",
       "<style scoped>\n",
       "    .dataframe tbody tr th:only-of-type {\n",
       "        vertical-align: middle;\n",
       "    }\n",
       "\n",
       "    .dataframe tbody tr th {\n",
       "        vertical-align: top;\n",
       "    }\n",
       "\n",
       "    .dataframe thead th {\n",
       "        text-align: right;\n",
       "    }\n",
       "</style>\n",
       "<table border=\"1\" class=\"dataframe\">\n",
       "  <thead>\n",
       "    <tr style=\"text-align: right;\">\n",
       "      <th></th>\n",
       "      <th>date</th>\n",
       "      <th>subsite_title</th>\n",
       "      <th>conversion</th>\n",
       "    </tr>\n",
       "  </thead>\n",
       "  <tbody>\n",
       "    <tr>\n",
       "      <th>0</th>\n",
       "      <td>2019-06-01</td>\n",
       "      <td>Windows 10</td>\n",
       "      <td>0.197802</td>\n",
       "    </tr>\n",
       "    <tr>\n",
       "      <th>1</th>\n",
       "      <td>2019-06-01</td>\n",
       "      <td>xboxOne</td>\n",
       "      <td>0.200704</td>\n",
       "    </tr>\n",
       "    <tr>\n",
       "      <th>2</th>\n",
       "      <td>2019-06-02</td>\n",
       "      <td>Windows 10</td>\n",
       "      <td>0.287532</td>\n",
       "    </tr>\n",
       "    <tr>\n",
       "      <th>3</th>\n",
       "      <td>2019-06-02</td>\n",
       "      <td>xboxOne</td>\n",
       "      <td>0.270677</td>\n",
       "    </tr>\n",
       "    <tr>\n",
       "      <th>4</th>\n",
       "      <td>2019-06-03</td>\n",
       "      <td>Windows 10</td>\n",
       "      <td>0.439331</td>\n",
       "    </tr>\n",
       "  </tbody>\n",
       "</table>\n",
       "</div>"
      ],
      "text/plain": [
       "         date subsite_title  conversion\n",
       "0  2019-06-01    Windows 10    0.197802\n",
       "1  2019-06-01       xboxOne    0.200704\n",
       "2  2019-06-02    Windows 10    0.287532\n",
       "3  2019-06-02       xboxOne    0.270677\n",
       "4  2019-06-03    Windows 10    0.439331"
      ]
     },
     "execution_count": 40,
     "metadata": {},
     "output_type": "execute_result"
    }
   ],
   "source": [
    "sql_str = f\"\"\"\n",
    "SELECT\n",
    "    dt,\n",
    "    subsite_title,\n",
    "    SUM(content_watch)::float / SUM(content_impression)::float as conversion\n",
    "FROM (\n",
    "    {raw_stat_sql_str}\n",
    ") as content_watches\n",
    "WHERE\n",
    "    content_impression > 0 /* Отфильтруем  \"мусорные\" случаи, когда */\n",
    "GROUP BY date, subsite_title\n",
    "ORDER BY date, subsite_title\n",
    "\"\"\"\n",
    "\n",
    "conversion_df = pd.read_sql(sql_str, engine)\n",
    "\n",
    "conversion_df.head()"
   ]
  },
  {
   "cell_type": "markdown",
   "metadata": {},
   "source": [
    "# Задание 4\n",
    "\n",
    "Постройте график следующего вида\n",
    "* значение конверсии по дням\n",
    "* каждый `subsite_title` отдельной линии\n",
    "\n",
    "Должно получится как-то так\n",
    "\n",
    "![conversions](img/conversions.png)"
   ]
  },
  {
   "cell_type": "markdown",
   "metadata": {},
   "source": [
    "Готово! Поздравляю с успешным выполнением домашки"
   ]
  }
 ],
 "metadata": {
  "kernelspec": {
   "display_name": "Python 3",
   "language": "python",
   "name": "python3"
  },
  "language_info": {
   "codemirror_mode": {
    "name": "ipython",
    "version": 3
   },
   "file_extension": ".py",
   "mimetype": "text/x-python",
   "name": "python",
   "nbconvert_exporter": "python",
   "pygments_lexer": "ipython3",
   "version": "3.6.9"
  }
 },
 "nbformat": 4,
 "nbformat_minor": 4
}
