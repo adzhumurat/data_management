{
 "cells": [
  {
   "cell_type": "markdown",
   "metadata": {},
   "source": [
    "# Подключение к Postgres"
   ]
  },
  {
   "cell_type": "code",
   "execution_count": 5,
   "metadata": {},
   "outputs": [
    {
     "name": "stdout",
     "output_type": "stream",
     "text": [
      "Движок для подключения к Postgres создан\n"
     ]
    }
   ],
   "source": [
    "import datetime\n",
    "import logging\n",
    "import os\n",
    "from subprocess import call\n",
    "\n",
    "import numpy as np\n",
    "\n",
    "import pandas as pd\n",
    "from sqlalchemy import create_engine\n",
    "\n",
    "\n",
    "logging.basicConfig(format='%(asctime)s : %(levelname)s : %(message)s', level=logging.INFO)\n",
    "logger = logging.getLogger(__name__)\n",
    "\n",
    "# движок нужен для подключения к Postgres\n",
    "engine = create_engine(\n",
    "    'postgresql://postgres:@{}:{}'.format('postgres_host',5432)\n",
    ")\n",
    "print('Движок для подключения к Postgres создан')"
   ]
  },
  {
   "cell_type": "code",
   "execution_count": 6,
   "metadata": {},
   "outputs": [],
   "source": [
    "sql_query = \"\"\"\n",
    "    SELECT\n",
    "        to_char(to_timestamp(rocket_datetime),'YYYY-MM-DD') dt,\n",
    "        COUNT(*) as page_impression_count\n",
    "    FROM movie.events\n",
    "    WHERE\n",
    "        name = 'page_impression'\n",
    "    GROUP BY dt\n",
    "\"\"\""
   ]
  },
  {
   "cell_type": "code",
   "execution_count": 7,
   "metadata": {},
   "outputs": [],
   "source": [
    "event_count = pd.read_sql(\n",
    "    sql=sql_query,\n",
    "    con=engine\n",
    ")"
   ]
  },
  {
   "cell_type": "code",
   "execution_count": 8,
   "metadata": {},
   "outputs": [
    {
     "data": {
      "text/html": [
       "<div>\n",
       "<style scoped>\n",
       "    .dataframe tbody tr th:only-of-type {\n",
       "        vertical-align: middle;\n",
       "    }\n",
       "\n",
       "    .dataframe tbody tr th {\n",
       "        vertical-align: top;\n",
       "    }\n",
       "\n",
       "    .dataframe thead th {\n",
       "        text-align: right;\n",
       "    }\n",
       "</style>\n",
       "<table border=\"1\" class=\"dataframe\">\n",
       "  <thead>\n",
       "    <tr style=\"text-align: right;\">\n",
       "      <th></th>\n",
       "      <th>dt</th>\n",
       "      <th>page_impression_count</th>\n",
       "    </tr>\n",
       "  </thead>\n",
       "  <tbody>\n",
       "    <tr>\n",
       "      <th>0</th>\n",
       "      <td>2019-06-01</td>\n",
       "      <td>3191</td>\n",
       "    </tr>\n",
       "    <tr>\n",
       "      <th>1</th>\n",
       "      <td>2019-06-02</td>\n",
       "      <td>5245</td>\n",
       "    </tr>\n",
       "    <tr>\n",
       "      <th>2</th>\n",
       "      <td>2019-06-03</td>\n",
       "      <td>4558</td>\n",
       "    </tr>\n",
       "    <tr>\n",
       "      <th>3</th>\n",
       "      <td>2019-06-04</td>\n",
       "      <td>5248</td>\n",
       "    </tr>\n",
       "    <tr>\n",
       "      <th>4</th>\n",
       "      <td>2019-06-05</td>\n",
       "      <td>4740</td>\n",
       "    </tr>\n",
       "    <tr>\n",
       "      <th>...</th>\n",
       "      <td>...</td>\n",
       "      <td>...</td>\n",
       "    </tr>\n",
       "    <tr>\n",
       "      <th>87</th>\n",
       "      <td>2019-08-27</td>\n",
       "      <td>19855</td>\n",
       "    </tr>\n",
       "    <tr>\n",
       "      <th>88</th>\n",
       "      <td>2019-08-28</td>\n",
       "      <td>20725</td>\n",
       "    </tr>\n",
       "    <tr>\n",
       "      <th>89</th>\n",
       "      <td>2019-08-29</td>\n",
       "      <td>20370</td>\n",
       "    </tr>\n",
       "    <tr>\n",
       "      <th>90</th>\n",
       "      <td>2019-08-30</td>\n",
       "      <td>20984</td>\n",
       "    </tr>\n",
       "    <tr>\n",
       "      <th>91</th>\n",
       "      <td>2019-08-31</td>\n",
       "      <td>21678</td>\n",
       "    </tr>\n",
       "  </tbody>\n",
       "</table>\n",
       "<p>92 rows × 2 columns</p>\n",
       "</div>"
      ],
      "text/plain": [
       "            dt  page_impression_count\n",
       "0   2019-06-01                   3191\n",
       "1   2019-06-02                   5245\n",
       "2   2019-06-03                   4558\n",
       "3   2019-06-04                   5248\n",
       "4   2019-06-05                   4740\n",
       "..         ...                    ...\n",
       "87  2019-08-27                  19855\n",
       "88  2019-08-28                  20725\n",
       "89  2019-08-29                  20370\n",
       "90  2019-08-30                  20984\n",
       "91  2019-08-31                  21678\n",
       "\n",
       "[92 rows x 2 columns]"
      ]
     },
     "execution_count": 8,
     "metadata": {},
     "output_type": "execute_result"
    }
   ],
   "source": [
    "event_count"
   ]
  },
  {
   "cell_type": "code",
   "execution_count": 9,
   "metadata": {},
   "outputs": [
    {
     "data": {
      "text/plain": [
       "<matplotlib.axes._subplots.AxesSubplot at 0x7f3d33b3ffd0>"
      ]
     },
     "execution_count": 9,
     "metadata": {},
     "output_type": "execute_result"
    },
    {
     "data": {
      "image/png": "[encoded data removed]",
      "text/plain": [
       "<Figure size 432x288 with 1 Axes>"
      ]
     },
     "metadata": {
      "needs_background": "light"
     },
     "output_type": "display_data"
    }
   ],
   "source": [
    "event_count.plot(x='dt', y='page_impression_count')"
   ]
  },
  {
   "cell_type": "code",
   "execution_count": null,
   "metadata": {},
   "outputs": [],
   "source": []
  },
  {
   "cell_type": "code",
   "execution_count": null,
   "metadata": {},
   "outputs": [],
   "source": []
  },
  {
   "cell_type": "code",
   "execution_count": null,
   "metadata": {},
   "outputs": [],
   "source": []
  },
  {
   "cell_type": "code",
   "execution_count": null,
   "metadata": {},
   "outputs": [],
   "source": []
  },
  {
   "cell_type": "code",
   "execution_count": null,
   "metadata": {},
   "outputs": [],
   "source": []
  },
  {
   "cell_type": "code",
   "execution_count": null,
   "metadata": {},
   "outputs": [],
   "source": []
  },
  {
   "cell_type": "code",
   "execution_count": null,
   "metadata": {},
   "outputs": [],
   "source": []
  },
  {
   "cell_type": "markdown",
   "metadata": {},
   "source": [
    "Базовый класс для чтения из Postrgres в Pandas DataFrame."
   ]
  },
  {
   "cell_type": "code",
   "execution_count": null,
   "metadata": {},
   "outputs": [],
   "source": [
    "class PosgresConnector():\n",
    "    \"\"\"Класс для чтения данных из Postgres Spark DataFrame\"\"\"\n",
    "    _sql = None  # type: Optional[str]\n",
    "    _df_schema = None  # type: Optional[str]\n",
    "\n",
    "    def __init__(self, engine):\n",
    "        self.engine = engine\n",
    "\n",
    "    def load_df(self, **kwargs) -> pd.DataFrame:\n",
    "        \"\"\"Трансформация sql-запроса в Spark DataFrame\n",
    "\n",
    "        :return: датафрейм PySpark\n",
    "        \"\"\"\n",
    "        if self._sql is None:\n",
    "            raise ValueError('Не задан SQL скрипт')\n",
    "        elif self._df_schema is None:\n",
    "            raise ValueError('Не задана типизация колонок pandas DataFrame')\n",
    "        else:\n",
    "            sql = self._sql.format(**kwargs)\n",
    "            logger.info('Выгрузка %s: поля %s' % (self.__class__.__name__, self._df_schema))\n",
    "            # основная \n",
    "            return pd.read_sql(sql, self.engine).head()"
   ]
  },
  {
   "cell_type": "markdown",
   "metadata": {},
   "source": [
    "Создаём класс-наследник с SQL для чтения оценов.\n",
    "\n",
    "SQL параметризован параметром `USER_ID`"
   ]
  },
  {
   "cell_type": "code",
   "execution_count": null,
   "metadata": {},
   "outputs": [],
   "source": [
    "class UserRatingsView(PosgresConnector):\n",
    "    _sql = \"\"\"\n",
    "        SELECT userId, movieId\n",
    "        FROM movie.ratings\n",
    "        WHERE\n",
    "            userId = {USER_ID}\n",
    "    \"\"\"\n",
    "\n",
    "    _df_schema = ['userid', 'movieid']\n",
    "    \n",
    "user_ratings = UserRatingsView(engine).load_df(USER_ID=1)"
   ]
  },
  {
   "cell_type": "markdown",
   "metadata": {},
   "source": [
    "Аналогичный класс для выгрузки оценок"
   ]
  },
  {
   "cell_type": "code",
   "execution_count": null,
   "metadata": {},
   "outputs": [],
   "source": [
    "class Ratings(PosgresConnector):\n",
    "    _sql = \"\"\"\n",
    "        SELECT userid, movieid, rating,timestamp\n",
    "        FROM movie.ratings\n",
    "    \"\"\"\n",
    "\n",
    "    _df_schema = ['userid','movieid','rating','timestamp']\n",
    "    \n",
    "ratings = Ratings(engine).load_df()\n",
    "\n",
    "ratings.head()"
   ]
  },
  {
   "cell_type": "markdown",
   "metadata": {},
   "source": [
    "Магия pandas - аггрегируем оценки"
   ]
  },
  {
   "cell_type": "code",
   "execution_count": null,
   "metadata": {},
   "outputs": [],
   "source": [
    "ratings_agg = ratings.groupby(\n",
    "    ratings.movieid\n",
    ").agg(\n",
    "    {'userid': 'count'}\n",
    ").sort_values(\n",
    "    'userid',\n",
    "    ascending=False\n",
    ")\n",
    "ratings_agg.columns = ['user_count']\n",
    "ratings_agg = ratings_agg.reset_index()\n",
    "\n",
    "ratings_agg.head()"
   ]
  },
  {
   "cell_type": "markdown",
   "metadata": {},
   "source": [
    "пример графики"
   ]
  },
  {
   "cell_type": "code",
   "execution_count": null,
   "metadata": {},
   "outputs": [],
   "source": [
    "%matplotlib inline\n",
    "\n",
    "ratings_agg.head(40).plot.bar()"
   ]
  },
  {
   "cell_type": "markdown",
   "metadata": {},
   "source": [
    "# Подключение к Mongo"
   ]
  },
  {
   "cell_type": "code",
   "execution_count": null,
   "metadata": {},
   "outputs": [],
   "source": [
    "import os\n",
    "\n",
    "from pymongo import MongoClient"
   ]
  },
  {
   "cell_type": "code",
   "execution_count": null,
   "metadata": {},
   "outputs": [],
   "source": [
    "mongo = MongoClient(**{\n",
    "    'host': os.environ['APP_MONGO_HOST'],\n",
    "    'port': int(os.environ['APP_MONGO_PORT'])\n",
    "})\n",
    "db = mongo[\"movie\"]\n",
    "collection = db['tags']"
   ]
  },
  {
   "cell_type": "code",
   "execution_count": null,
   "metadata": {},
   "outputs": [],
   "source": [
    "movies_with_tags = list({i['movie_id'] for i in collection.find({}, {'_id': 0, 'movie_id': 1})})\n",
    "print(f\"Количество фильмов с тэгами {len(movies_with_tags)}\")"
   ]
  },
  {
   "cell_type": "markdown",
   "metadata": {},
   "source": [
    "Трансформируем то, что достали из Mongo в DataFrame"
   ]
  },
  {
   "cell_type": "code",
   "execution_count": null,
   "metadata": {},
   "outputs": [],
   "source": [
    "def value2int(x):\n",
    "    try:\n",
    "        return int(x)\n",
    "    except ValueError:\n",
    "        return -1\n",
    "\n",
    "movies_with_tags_df = pd.DataFrame({'movie_id': movies_with_tags})\n",
    "movies_with_tags_df[\n",
    "    'movie_id'\n",
    "] = movies_with_tags_df[\n",
    "    'movie_id'\n",
    "].astype(\n",
    "    dtype=np.uint32, errors = 'ignore'\n",
    ").apply(value2int)\n",
    "\n",
    "movies_with_tags_df.head(5)"
   ]
  },
  {
   "cell_type": "markdown",
   "metadata": {},
   "source": [
    "Отфильтровываем популярные фильмы, у которых отсутствуют тэги"
   ]
  },
  {
   "cell_type": "code",
   "execution_count": null,
   "metadata": {},
   "outputs": [],
   "source": [
    "ratings_agg_filtered = ratings_agg.merge(\n",
    "    movies_with_tags_df,\n",
    "    how='inner',\n",
    "    left_on='movieid', right_on='movie_id'\n",
    ")[['movieid', 'user_count']]\n",
    "\n",
    "ratings_agg_filtered.head(3)"
   ]
  },
  {
   "cell_type": "markdown",
   "metadata": {},
   "source": [
    "Смотрим, какой жанр у самого популярного контента"
   ]
  },
  {
   "cell_type": "code",
   "execution_count": null,
   "metadata": {},
   "outputs": [],
   "source": [
    "most_popular_movie_id = ratings_agg.movieid.values[1]\n",
    "\n",
    "doc = collection.find({'movie_id': f'{most_popular_movie_id}'}, {'_id': 0}).limit(1)\n",
    "[i for i in doc]"
   ]
  },
  {
   "cell_type": "markdown",
   "metadata": {},
   "source": [
    "# Графика plotly"
   ]
  },
  {
   "cell_type": "code",
   "execution_count": null,
   "metadata": {},
   "outputs": [],
   "source": [
    "from plotly.offline import download_plotlyjs, init_notebook_mode, plot, iplot\n",
    "import plotly.graph_objs as go\n",
    "\n",
    "init_notebook_mode(connected=True)\n"
   ]
  },
  {
   "cell_type": "code",
   "execution_count": null,
   "metadata": {},
   "outputs": [],
   "source": [
    "ratings_agg_sorted = ratings_agg.sort_values(by='user_count', ascending=False).head(10)\n",
    "\n",
    "trace = go.Bar(\n",
    "    x = ratings_agg_sorted.movieid,\n",
    "    y = ratings_agg_sorted.user_count\n",
    ")\n",
    "layout = go.Layout(\n",
    "    title='Фильмы на IMDB',\n",
    ")\n",
    "\n",
    "fig = go.Figure(data = [trace], layout = layout)\n",
    "iplot(fig)"
   ]
  },
  {
   "cell_type": "markdown",
   "metadata": {},
   "source": [
    "## График популярности по времени"
   ]
  },
  {
   "cell_type": "code",
   "execution_count": null,
   "metadata": {},
   "outputs": [],
   "source": [
    "ratings_318 = ratings[ratings.movieid==318][['timestamp', 'userid']]\n",
    "ratings_318.head(3)"
   ]
  },
  {
   "cell_type": "code",
   "execution_count": null,
   "metadata": {},
   "outputs": [],
   "source": [
    "from datetime import datetime\n",
    "\n",
    "def unix_to_date(ts):\n",
    "    return datetime.utcfromtimestamp(ts).strftime('%Y-%m-%d')\n",
    "\n",
    "unix_to_date(1486253595)"
   ]
  },
  {
   "cell_type": "code",
   "execution_count": null,
   "metadata": {},
   "outputs": [],
   "source": [
    "ratings_318 = ratings_318.assign(\n",
    "    date=ratings_318.timestamp.apply(unix_to_date)\n",
    ")\n",
    "\n",
    "ratings_318.head(3)"
   ]
  },
  {
   "cell_type": "code",
   "execution_count": null,
   "metadata": {},
   "outputs": [],
   "source": [
    "ratings_318_agg = ratings_318.groupby('date')['userid'].count().reset_index()\n",
    "ratings_318_agg.head()"
   ]
  },
  {
   "cell_type": "code",
   "execution_count": null,
   "metadata": {},
   "outputs": [],
   "source": [
    "trace = go.Line(\n",
    "    x = ratings_318_agg.date,\n",
    "    y = ratings_318_agg.userid\n",
    ")\n",
    "layout = go.Layout(\n",
    "    title='Фильмы на IMDB',\n",
    ")\n",
    "\n",
    "fig = go.Figure(data = [trace], layout = layout)\n",
    "iplot(fig)"
   ]
  },
  {
   "cell_type": "code",
   "execution_count": null,
   "metadata": {},
   "outputs": [],
   "source": [
    "import plotly.express as px\n",
    "\n",
    "fig = px.scatter(ratings_318_agg, x=\"date\", y=\"userid\")\n",
    "fig.show()"
   ]
  },
  {
   "cell_type": "code",
   "execution_count": null,
   "metadata": {},
   "outputs": [],
   "source": []
  }
 ],
 "metadata": {
  "kernelspec": {
   "display_name": "Python 3",
   "language": "python",
   "name": "python3"
  },
  "language_info": {
   "codemirror_mode": {
    "name": "ipython",
    "version": 3
   },
   "file_extension": ".py",
   "mimetype": "text/x-python",
   "name": "python",
   "nbconvert_exporter": "python",
   "pygments_lexer": "ipython3",
   "version": "3.6.9"
  }
 },
 "nbformat": 4,
 "nbformat_minor": 2
}
