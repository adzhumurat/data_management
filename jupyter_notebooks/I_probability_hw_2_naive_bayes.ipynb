{
 "cells": [
  {
   "cell_type": "markdown",
   "metadata": {},
   "source": [
    "# Реализация наивного Байесовского классификатора"
   ]
  },
  {
   "cell_type": "code",
   "execution_count": 1,
   "metadata": {
    "scrolled": true
   },
   "outputs": [
    {
     "data": {
      "text/html": [
       "<div>\n",
       "<style scoped>\n",
       "    .dataframe tbody tr th:only-of-type {\n",
       "        vertical-align: middle;\n",
       "    }\n",
       "\n",
       "    .dataframe tbody tr th {\n",
       "        vertical-align: top;\n",
       "    }\n",
       "\n",
       "    .dataframe thead th {\n",
       "        text-align: right;\n",
       "    }\n",
       "</style>\n",
       "<table border=\"1\" class=\"dataframe\">\n",
       "  <thead>\n",
       "    <tr style=\"text-align: right;\">\n",
       "      <th></th>\n",
       "      <th>class</th>\n",
       "      <th>sms_text</th>\n",
       "    </tr>\n",
       "  </thead>\n",
       "  <tbody>\n",
       "    <tr>\n",
       "      <th>0</th>\n",
       "      <td>spam</td>\n",
       "      <td>Free entry in 2 a wkly comp to win FA Cup fina...</td>\n",
       "    </tr>\n",
       "    <tr>\n",
       "      <th>1</th>\n",
       "      <td>ham</td>\n",
       "      <td>U dun say so early hor... U c already then say...</td>\n",
       "    </tr>\n",
       "    <tr>\n",
       "      <th>2</th>\n",
       "      <td>ham</td>\n",
       "      <td>Nah I don't think he goes to usf, he lives aro...</td>\n",
       "    </tr>\n",
       "  </tbody>\n",
       "</table>\n",
       "</div>"
      ],
      "text/plain": [
       "  class                                           sms_text\n",
       "0  spam  Free entry in 2 a wkly comp to win FA Cup fina...\n",
       "1   ham  U dun say so early hor... U c already then say...\n",
       "2   ham  Nah I don't think he goes to usf, he lives aro..."
      ]
     },
     "execution_count": 1,
     "metadata": {},
     "output_type": "execute_result"
    }
   ],
   "source": [
    "import pandas as pd\n",
    "\n",
    "filename = 'data/sms_spam_collection.tar.gz'\n",
    "\n",
    "df = pd.read_csv(\n",
    "    filename,\n",
    "    compression='gzip',\n",
    "    header=1,\n",
    "    sep='\\t',\n",
    "    encoding='utf8',\n",
    "    names=['class', 'sms_text'],\n",
    "    error_bad_lines=False\n",
    ")\n",
    "\n",
    "\n",
    "df.head(3)"
   ]
  },
  {
   "cell_type": "markdown",
   "metadata": {},
   "source": [
    "Проверяем, сколько у нас всего объектов в датасете"
   ]
  },
  {
   "cell_type": "code",
   "execution_count": 2,
   "metadata": {},
   "outputs": [
    {
     "name": "stdout",
     "output_type": "stream",
     "text": [
      "5571 2\n"
     ]
    }
   ],
   "source": [
    "num_objects, num_features = df.shape\n",
    "print(num_objects, num_features)"
   ]
  },
  {
   "cell_type": "markdown",
   "metadata": {},
   "source": [
    "Целевая переменная (target) в столбце `class`"
   ]
  },
  {
   "cell_type": "code",
   "execution_count": 3,
   "metadata": {},
   "outputs": [
    {
     "data": {
      "text/plain": [
       "0    spam\n",
       "1     ham\n",
       "2     ham\n",
       "3    spam\n",
       "4     ham\n",
       "Name: class, dtype: object"
      ]
     },
     "execution_count": 3,
     "metadata": {},
     "output_type": "execute_result"
    }
   ],
   "source": [
    "df['class'].head()"
   ]
  },
  {
   "cell_type": "markdown",
   "metadata": {},
   "source": [
    "Демонстрация того, как получить булеву маску для датафрейма"
   ]
  },
  {
   "cell_type": "code",
   "execution_count": 4,
   "metadata": {},
   "outputs": [
    {
     "data": {
      "text/plain": [
       "0        True\n",
       "1       False\n",
       "2       False\n",
       "3        True\n",
       "4       False\n",
       "        ...  \n",
       "5566    False\n",
       "5567    False\n",
       "5568    False\n",
       "5569    False\n",
       "5570    False\n",
       "Name: class, Length: 5571, dtype: bool"
      ]
     },
     "execution_count": 4,
     "metadata": {},
     "output_type": "execute_result"
    }
   ],
   "source": [
    "SPAM_CLASS = 'spam'\n",
    "NOT_SPAM_CLASS = 'ham'\n",
    "\n",
    "df['class'] == SPAM_CLASS"
   ]
  },
  {
   "cell_type": "markdown",
   "metadata": {},
   "source": [
    "Использование булевой маски для фильтрации датафрейма "
   ]
  },
  {
   "cell_type": "code",
   "execution_count": 5,
   "metadata": {},
   "outputs": [
    {
     "name": "stdout",
     "output_type": "stream",
     "text": [
      "spam sms: 747, not spam sms 4823\n"
     ]
    }
   ],
   "source": [
    "spam_sms_num = (df['class'] == SPAM_CLASS).sum()\n",
    "notspam_sms_num = (df['class'] == NOT_SPAM_CLASS).sum()\n",
    "\n",
    "print(f'spam sms: {spam_sms_num}, not spam sms {notspam_sms_num}')"
   ]
  },
  {
   "cell_type": "code",
   "execution_count": 49,
   "metadata": {},
   "outputs": [
    {
     "data": {
      "text/plain": [
       "4823"
      ]
     },
     "execution_count": 49,
     "metadata": {},
     "output_type": "execute_result"
    }
   ],
   "source": [
    "df['class'].value_counts()['ham']"
   ]
  },
  {
   "cell_type": "markdown",
   "metadata": {},
   "source": [
    "##### Задача\n",
    "\n",
    "считаем вероятности классов"
   ]
  },
  {
   "cell_type": "code",
   "execution_count": 30,
   "metadata": {},
   "outputs": [
    {
     "name": "stdout",
     "output_type": "stream",
     "text": [
      "0.1341, 0.8659\n"
     ]
    }
   ],
   "source": [
    "# априорная вероятность класса спам\n",
    "sms_count = spam_sms_num + notspam_sms_num\n",
    "p_spam = spam_sms_num / sms_count\n",
    "\n",
    "# априорная вероятность класса не спам\n",
    "p_notspam = notspam_sms_num / sms_count\n",
    "\n",
    "print(f'{p_spam:.4f}, {p_notspam:.4f}')"
   ]
  },
  {
   "cell_type": "markdown",
   "metadata": {},
   "source": [
    "Пример обработки текстовой информации - приводим к нижнему регистру"
   ]
  },
  {
   "cell_type": "code",
   "execution_count": 8,
   "metadata": {},
   "outputs": [
    {
     "data": {
      "text/plain": [
       "'free'"
      ]
     },
     "execution_count": 8,
     "metadata": {},
     "output_type": "execute_result"
    }
   ],
   "source": [
    "test_word = 'Free'.lower()\n",
    "\n",
    "test_word"
   ]
  },
  {
   "cell_type": "code",
   "execution_count": 9,
   "metadata": {},
   "outputs": [
    {
     "data": {
      "text/plain": [
       "\"Free entry in 2 a wkly comp to win FA Cup final tkts 21st May 2005. Text FA to 87121 to receive entry question(std txt rate)T&C's apply 08452810075over18's\""
      ]
     },
     "execution_count": 9,
     "metadata": {},
     "output_type": "execute_result"
    }
   ],
   "source": [
    "sms_example = df['sms_text'].values[0]\n",
    "\n",
    "sms_example"
   ]
  },
  {
   "cell_type": "markdown",
   "metadata": {},
   "source": [
    "Пишем полезные сниппеты для трансформации текста"
   ]
  },
  {
   "cell_type": "code",
   "execution_count": 22,
   "metadata": {},
   "outputs": [
    {
     "data": {
      "text/plain": [
       "'F r e e   e n t r y   i n   2   a   w k l y   c o m p   t o   w i n   F A   C u p   f i n a l   t k t s   2 1 s t   M a y   2 0 0 5   T e x t   F A   t o   8 7 1 2 1   t o   r e c e i v e   e n t r y   q u e s t i o n s t d   t x t   r a t e T C s   a p p l y   0 8 4 5 2 8 1 0 0 7 5 o v e r 1 8 s'"
      ]
     },
     "execution_count": 22,
     "metadata": {},
     "output_type": "execute_result"
    }
   ],
   "source": [
    "' '.join([\n",
    "    str(char)\n",
    "    for char in sms_example\n",
    "    if char not in string.punctuation\n",
    "])"
   ]
  },
  {
   "cell_type": "code",
   "execution_count": 145,
   "metadata": {},
   "outputs": [
    {
     "name": "stdout",
     "output_type": "stream",
     "text": [
      "!\"#$%&'()*+,-./:;<=>?@[\\]^_`{|}~\n"
     ]
    },
    {
     "data": {
      "text/plain": [
       "'F   r   e   e       e   n   t   r   y       i   n       2       a       w   k   l   y       c   o   m   p       t   o       w   i   n       F   A       C   u   p       f   i   n   a   l       t   k   t   s       2   1   s   t       M   a   y       2   0   0   5       T   e   x   t       F   A       t   o       8   7   1   2   1       t   o       r   e   c   e   i   v   e       e   n   t   r   y       q   u   e   s   t   i   o   n   s   t   d       t   x   t       r   a   t   e   T   C   s       a   p   p   l   y       0   8   4   5   2   8   1   0   0   7   5   o   v   e   r   1   8   s'"
      ]
     },
     "execution_count": 145,
     "metadata": {},
     "output_type": "execute_result"
    }
   ],
   "source": [
    "# удаляем знаки препинания\n",
    "import string\n",
    "\n",
    "print(string.punctuation)\n",
    "\n",
    "sms_example = ' '.join([\n",
    "    char\n",
    "    for char in sms_example\n",
    "    if char not in string.punctuation\n",
    "])\n",
    "\n",
    "sms_example"
   ]
  },
  {
   "cell_type": "code",
   "execution_count": 17,
   "metadata": {},
   "outputs": [
    {
     "data": {
      "text/plain": [
       "\"free entry in 2 a wkly comp to win fa cup final tkts 21st may 2005. text fa to 87121 to receive entry question(std txt rate)t&c's apply 08452810075over18's\""
      ]
     },
     "execution_count": 17,
     "metadata": {},
     "output_type": "execute_result"
    }
   ],
   "source": [
    "# приводим слова к нижнему регистру\n",
    "\n",
    "#.lower()\n",
    "sms_example = ' '.join([\n",
    "    word.lower()\n",
    "    for word in sms_example.split(' ')\n",
    "])\n",
    "\n",
    "sms_example"
   ]
  },
  {
   "cell_type": "markdown",
   "metadata": {},
   "source": [
    "Объединяем сниппеты в функцию"
   ]
  },
  {
   "cell_type": "code",
   "execution_count": 125,
   "metadata": {},
   "outputs": [
    {
     "name": "stdout",
     "output_type": "stream",
     "text": [
      "free entry in 2 a wkly comp to win fa cup final tkts 21st may 2005 text fa to 87121 to receive entry questionstd txt ratetcs apply 08452810075over18s\n"
     ]
    }
   ],
   "source": [
    "import string\n",
    "\n",
    "def text_preprocess(sms_text: str) -> str:\n",
    "    \"\"\"Преобразование текста для анализа\"\"\"\n",
    "    text_no_punctuation = ''.join([\n",
    "        char\n",
    "        for char in sms_text\n",
    "        if char not in string.punctuation + ''\n",
    "    ])\n",
    "    text_lowercase = ' '.join([\n",
    "        word.lower()\n",
    "        for word in text_no_punctuation.split(' ')\n",
    "    ])\n",
    "    \n",
    "    return text_lowercase\n",
    "\n",
    "\n",
    "sms_example = df['sms_text'].values[0]\n",
    "\n",
    "print(text_preprocess(sms_example))"
   ]
  },
  {
   "cell_type": "markdown",
   "metadata": {},
   "source": [
    "Трансформируем каждую строчку датафрейма"
   ]
  },
  {
   "cell_type": "code",
   "execution_count": 126,
   "metadata": {},
   "outputs": [
    {
     "data": {
      "text/html": [
       "<div>\n",
       "<style scoped>\n",
       "    .dataframe tbody tr th:only-of-type {\n",
       "        vertical-align: middle;\n",
       "    }\n",
       "\n",
       "    .dataframe tbody tr th {\n",
       "        vertical-align: top;\n",
       "    }\n",
       "\n",
       "    .dataframe thead th {\n",
       "        text-align: right;\n",
       "    }\n",
       "</style>\n",
       "<table border=\"1\" class=\"dataframe\">\n",
       "  <thead>\n",
       "    <tr style=\"text-align: right;\">\n",
       "      <th></th>\n",
       "      <th>class</th>\n",
       "      <th>sms_text</th>\n",
       "      <th>processed_text</th>\n",
       "    </tr>\n",
       "  </thead>\n",
       "  <tbody>\n",
       "    <tr>\n",
       "      <th>0</th>\n",
       "      <td>spam</td>\n",
       "      <td>Free entry in 2 a wkly comp to win FA Cup fina...</td>\n",
       "      <td>free entry in 2 a wkly comp to win fa cup fina...</td>\n",
       "    </tr>\n",
       "    <tr>\n",
       "      <th>1</th>\n",
       "      <td>ham</td>\n",
       "      <td>U dun say so early hor... U c already then say...</td>\n",
       "      <td>u dun say so early hor u c already then say</td>\n",
       "    </tr>\n",
       "    <tr>\n",
       "      <th>2</th>\n",
       "      <td>ham</td>\n",
       "      <td>Nah I don't think he goes to usf, he lives aro...</td>\n",
       "      <td>nah i dont think he goes to usf he lives aroun...</td>\n",
       "    </tr>\n",
       "    <tr>\n",
       "      <th>3</th>\n",
       "      <td>spam</td>\n",
       "      <td>FreeMsg Hey there darling it's been 3 week's n...</td>\n",
       "      <td>freemsg hey there darling its been 3 weeks now...</td>\n",
       "    </tr>\n",
       "    <tr>\n",
       "      <th>4</th>\n",
       "      <td>ham</td>\n",
       "      <td>Even my brother is not like to speak with me. ...</td>\n",
       "      <td>even my brother is not like to speak with me t...</td>\n",
       "    </tr>\n",
       "  </tbody>\n",
       "</table>\n",
       "</div>"
      ],
      "text/plain": [
       "  class                                           sms_text  \\\n",
       "0  spam  Free entry in 2 a wkly comp to win FA Cup fina...   \n",
       "1   ham  U dun say so early hor... U c already then say...   \n",
       "2   ham  Nah I don't think he goes to usf, he lives aro...   \n",
       "3  spam  FreeMsg Hey there darling it's been 3 week's n...   \n",
       "4   ham  Even my brother is not like to speak with me. ...   \n",
       "\n",
       "                                      processed_text  \n",
       "0  free entry in 2 a wkly comp to win fa cup fina...  \n",
       "1        u dun say so early hor u c already then say  \n",
       "2  nah i dont think he goes to usf he lives aroun...  \n",
       "3  freemsg hey there darling its been 3 weeks now...  \n",
       "4  even my brother is not like to speak with me t...  "
      ]
     },
     "execution_count": 126,
     "metadata": {},
     "output_type": "execute_result"
    }
   ],
   "source": [
    "df = df.assign(\n",
    "    processed_text=df['sms_text'].astype(str).apply(text_preprocess)\n",
    ")\n",
    "\n",
    "df.head()"
   ]
  },
  {
   "cell_type": "markdown",
   "metadata": {},
   "source": [
    "#### Задача\n",
    "\n",
    "Находим вероятность встретить слово в каждом из классов - это наша основная \"фича\" в наивном байесовском классификаторе"
   ]
  },
  {
   "cell_type": "code",
   "execution_count": 127,
   "metadata": {},
   "outputs": [
    {
     "data": {
      "text/plain": [
       "199"
      ]
     },
     "execution_count": 127,
     "metadata": {},
     "output_type": "execute_result"
    }
   ],
   "source": [
    "df[df['class'] == 'spam']['processed_text'].str.contains(test_word).sum()"
   ]
  },
  {
   "cell_type": "code",
   "execution_count": 128,
   "metadata": {},
   "outputs": [
    {
     "name": "stdout",
     "output_type": "stream",
     "text": [
      "P(word=\"free\"|class=spam)=0.2664\n",
      "P(word=\"free\"|class=not_spam)=0.0137\n"
     ]
    }
   ],
   "source": [
    "# вероятность встретить слово в спам смс\n",
    "# посчитайте, сколько раз test_word встречаемся в документах класса spam\n",
    "spam_test_word_entries = df[df['class'] == 'spam']['processed_text'].str.contains(test_word).sum()\n",
    "\n",
    "# вероятность встретить слово в не-спам смс\n",
    "# посчитайте, сколько раз test_word встречаемся в документах класса spam\n",
    "notspam_test_word_entries = df[df['class'] == 'ham']['processed_text'].str.contains(test_word).sum()\n",
    "    \n",
    "print(f'P(word=\"{test_word}\"|class=spam)={spam_test_word_entries/spam_sms_num:.4f}')\n",
    "print(f'P(word=\"{test_word}\"|class=not_spam)={notspam_test_word_entries/notspam_sms_num:.4f}')"
   ]
  },
  {
   "cell_type": "markdown",
   "metadata": {},
   "source": [
    "### Вывод\n",
    "\n",
    "слово \"free\" встречается в спам смс с вероятностью $26.6\\%$, а в не-спаме с вероятностью $1.3\\%$ - т.е. это слово является хорошим \"маркером\" спама"
   ]
  },
  {
   "cell_type": "markdown",
   "metadata": {},
   "source": [
    "# Реализовать классификатор\n",
    "\n",
    "Аналогично тому, как посчитали вероятности встретить слово `free` в каждом классе (спам/не спам) \n",
    "* в функции `fit()` подсчитать такие вероятности для каждого слова\n",
    "* в функции `predict()` по формуле байеса (см. лекцию) вычислять вероятность принадлежности входного текста к каждому из классов\n",
    "\n",
    "Результат предсказания - класс, вероятность принадлежности к которому больше"
   ]
  },
  {
   "cell_type": "code",
   "execution_count": 136,
   "metadata": {},
   "outputs": [],
   "source": [
    "from typing import List\n",
    "from copy import deepcopy\n",
    "from collections import defaultdict\n",
    "\n",
    "import numpy as np\n",
    "from tqdm import tqdm\n",
    "\n",
    "\"\"\"имплементация наивного байесовского классификатора\"\"\"\n",
    "class NaiveBayes:\n",
    "    def __init__(self):\n",
    "        \n",
    "        self.labels = [NOT_SPAM_CLASS, SPAM_CLASS]\n",
    "        self.class_labels_proba = None  # априорная вероятность класса, словарь\n",
    "        self.prior_word_proba = None  # частоты фичей (токенов)\n",
    "    \n",
    "    def _set_labels_prior_proba(self, data: list, target: list) -> None:\n",
    "        \"\"\"Вычисление априорной вероятности классов\n",
    "        \n",
    "        Вызов функции должен инициализировать массив self.class_labels_proba\n",
    "        \n",
    "        \"\"\"\n",
    "        class_labels_proba = dict(pd.Series(target).value_counts(normalize=True))\n",
    "        \n",
    "        self.class_labels_proba = class_labels_proba\n",
    "    \n",
    "    def _tokenize_text(self, text) -> list:\n",
    "        \"\"\"Функция, которая разобьёт входной текст на токены\n",
    "        \n",
    "        Токены вернуть в виде списка\"\"\"\n",
    "        \n",
    "        text_no_punctuation = ''.join([\n",
    "        char\n",
    "        for char in str(text)\n",
    "        if char not in string.punctuation\n",
    "        ])\n",
    "    \n",
    "        tokens = [\n",
    "        word.lower()\n",
    "        for word in text_no_punctuation.split(' ')\n",
    "        ]\n",
    "        try:\n",
    "            tokens.remove('')\n",
    "        except:\n",
    "            pass\n",
    "        \n",
    "        return tokens\n",
    "    \n",
    "    def _set_word_prior_proba(self, data, target):\n",
    "        \"\"\"Вычисляем априорную вероятность токенов в классе\n",
    "        \n",
    "        Заполняем словарь self.prior_word_proba[label][token]\n",
    "        \n",
    "        \"\"\"\n",
    "        word_proba_dict_by_class = dict.fromkeys(self.labels)\n",
    "        for label in self.labels:\n",
    "            word_proba_dict_by_class[label] = dict()\n",
    "            \n",
    "        df = pd.DataFrame({'data':data,\n",
    "                           'target':target})\n",
    "        \n",
    "        unique_tokens = set()\n",
    "        for text in data:\n",
    "            for token in self._tokenize_text(text):\n",
    "                \n",
    "                unique_tokens.add(token)\n",
    "        \n",
    "        unique_tokens.remove('') # FIXME: dont know why '' is here.\n",
    "        \n",
    "        for token in tqdm(unique_tokens, total=len(unique_tokens)):\n",
    "            for label in self.labels:\n",
    "                word_proba = df[df['target'] == label]['data'].str.lower().str.contains(token)\\\n",
    "                            .value_counts(normalize=True).get(True, 0)\n",
    "                word_proba_dict_by_class[label][token] = word_proba\n",
    "                \n",
    "# Старый вариант. Работал 10 минут вместо одной.\n",
    "#                 df_label = df[df['target'] == label]['data'].apply(self._tokenize_text)\n",
    "#                 contains_counter = 0\n",
    "#                 for tokenized_text in df_label:\n",
    "#                     if token in tokenized_text:\n",
    "#                         contains_counter += 1\n",
    "                    \n",
    "#                 total = len(df_label)\n",
    "#                 word_proba = contains_counter/total\n",
    " \n",
    "        self.prior_word_proba = word_proba_dict_by_class\n",
    "\n",
    "    def fit(self, data: list, target: list):\n",
    "        \"\"\"Обучение статистик по датасету\n",
    "\n",
    "        :param data: массив документов, каждый документ - объект типа str\n",
    "        :param target: массив меток объектов\n",
    "        :return:\n",
    "        \"\"\"\n",
    "        if not isinstance(data, list):\n",
    "            raise ValueError('Аргумент data должен иметь тип list')\n",
    "        if not isinstance(target, list):\n",
    "            raise ValueError('Аргумент target должен иметь тип list')\n",
    "        print('Данные инициализированы!')\n",
    "        self._set_labels_prior_proba(data, target)\n",
    "        print(f'Априорные вероятности классов {self.class_labels_proba}')\n",
    "        self._set_word_prior_proba(data, target)\n",
    "        print('Обучили априорные вероятности слов')\n",
    "        \n",
    "\n",
    "    def _predict_proba(self, data: list) -> List[tuple]:\n",
    "        \"\"\"Предсказываем класс для текстовой смс\n",
    "\n",
    "        :param data: массив документов, для каждого из которых нужно предсказать метку\n",
    "        :return: вероятности для каждого из классов\n",
    "        \"\"\"\n",
    "        prediction = []\n",
    "        for obj in data:\n",
    "            posterior_class_proba = defaultdict(lambda: 1)\n",
    "            for token in self._tokenize_text(obj):\n",
    "                for label in self.labels:\n",
    "                    posterior_class_proba[label] *= self.prior_word_proba[label][token]\n",
    "            # сохраняем для каждой метки класса - сколько меток, таков и размер uple\n",
    "            prediction.append(\n",
    "                tuple(\n",
    "                    posterior_class_proba[label] for label in self.labels\n",
    "                )\n",
    "            )\n",
    "        print(f'proba: {prediction}')\n",
    "        return prediction\n",
    "    \n",
    "    def predict(self, data) -> List[str]:\n",
    "        predict_labels = []\n",
    "        for proba in self._predict_proba(data):\n",
    "            predict_labels.append(self.labels[np.argmax(proba)])\n",
    "        return predict_labels\n",
    "\n",
    "naive_bayes = NaiveBayes()"
   ]
  },
  {
   "cell_type": "code",
   "execution_count": 137,
   "metadata": {},
   "outputs": [
    {
     "name": "stderr",
     "output_type": "stream",
     "text": [
      "  0%|          | 10/9661 [00:00<01:44, 92.75it/s]"
     ]
    },
    {
     "name": "stdout",
     "output_type": "stream",
     "text": [
      "Данные инициализированы!\n",
      "Априорные вероятности классов {'ham': 0.8658886894075404, 'spam': 0.1341113105924596}\n"
     ]
    },
    {
     "name": "stderr",
     "output_type": "stream",
     "text": [
      "100%|██████████| 9661/9661 [01:37<00:00, 99.26it/s] "
     ]
    },
    {
     "name": "stdout",
     "output_type": "stream",
     "text": [
      "Обучили априорные вероятности слов\n"
     ]
    },
    {
     "name": "stderr",
     "output_type": "stream",
     "text": [
      "\n"
     ]
    }
   ],
   "source": [
    "naive_bayes.fit(\n",
    "    data=df['sms_text'].values.tolist(),\n",
    "    target=df['class'].tolist()\n",
    ")"
   ]
  },
  {
   "cell_type": "code",
   "execution_count": 138,
   "metadata": {},
   "outputs": [
    {
     "data": {
      "text/plain": [
       "(0.019075264358283228, 0.0214190093708166)"
      ]
     },
     "execution_count": 138,
     "metadata": {},
     "output_type": "execute_result"
    }
   ],
   "source": [
    "naive_bayes.prior_word_proba['ham']['thank'], naive_bayes.prior_word_proba['spam']['thank']"
   ]
  },
  {
   "cell_type": "markdown",
   "metadata": {},
   "source": [
    "Предсказание метки класса"
   ]
  },
  {
   "cell_type": "code",
   "execution_count": 143,
   "metadata": {},
   "outputs": [
    {
     "name": "stdout",
     "output_type": "stream",
     "text": [
      "['URGENT! We are trying to contact U. Todays draw shows that you have won a £2000 prize GUARANTEED. Call 09058094507 from land line. Claim 3030. Valid 12hrs only', 'Lmao. Take a pic and send it to me.', \"I'm leaving my house now...\"]\n",
      "proba: [(0.0, 3.432458063866359e-30), (1.8586785467861134e-10, 0.0), (5.685047351584152e-08, 0.0)]\n"
     ]
    },
    {
     "data": {
      "text/plain": [
       "['spam', 'ham', 'ham']"
      ]
     },
     "execution_count": 143,
     "metadata": {},
     "output_type": "execute_result"
    }
   ],
   "source": [
    "import numpy as np\n",
    "# рандомный объект датасета\n",
    "\n",
    "random_obj_ind = np.random.randint(low=0, high=num_objects, size=3)\n",
    "random_obj_list = df['sms_text'].values[random_obj_ind].tolist()\n",
    "random_target = df['class'][random_obj_ind].tolist()\n",
    "\n",
    "print(random_obj_list)\n",
    "naive_bayes.predict(\n",
    "    random_obj_list\n",
    ")"
   ]
  },
  {
   "cell_type": "code",
   "execution_count": 125,
   "metadata": {},
   "outputs": [],
   "source": []
  },
  {
   "cell_type": "code",
   "execution_count": null,
   "metadata": {},
   "outputs": [],
   "source": []
  }
 ],
 "metadata": {
  "kernelspec": {
   "display_name": "Python 3",
   "language": "python",
   "name": "python3"
  },
  "language_info": {
   "codemirror_mode": {
    "name": "ipython",
    "version": 3
   },
   "file_extension": ".py",
   "mimetype": "text/x-python",
   "name": "python",
   "nbconvert_exporter": "python",
   "pygments_lexer": "ipython3",
   "version": "3.8.3"
  }
 },
 "nbformat": 4,
 "nbformat_minor": 4
}
