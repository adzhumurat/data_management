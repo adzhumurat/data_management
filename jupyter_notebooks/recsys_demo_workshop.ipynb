{
 "cells": [
  {
   "cell_type": "code",
   "execution_count": 7,
   "metadata": {},
   "outputs": [],
   "source": [
    "import datetime\n",
    "import json\n",
    "import os\n",
    "import pickle\n",
    "import requests\n",
    "import urllib\n",
    "from itertools import groupby\n",
    "from operator import itemgetter\n",
    "from typing import Dict, Tuple\n",
    "from multiprocessing import Pool\n",
    "\n",
    "import numpy as np\n",
    "import pandas as pd\n",
    "import sqlalchemy as sa\n",
    "from pymongo import MongoClient\n",
    "from scipy.sparse import save_npz, load_npz, csr_matrix\n",
    "from tqdm import tqdm\n",
    "\n",
    "os.environ['MKL_NUM_THREADS'] = '1'\n",
    "DT = datetime.datetime.now().strftime('%Y-%m-%d')"
   ]
  },
  {
   "cell_type": "markdown",
   "metadata": {},
   "source": [
    "# Загружаем csv\n",
    "\n",
    "`user_id` - результат рандома\n",
    "`item_id` - результат рандома"
   ]
  },
  {
   "cell_type": "code",
   "execution_count": 8,
   "metadata": {},
   "outputs": [
    {
     "name": "stdout",
     "output_type": "stream",
     "text": [
      "(1975696, 4)\n"
     ]
    },
    {
     "data": {
      "text/html": [
       "<div>\n",
       "<style scoped>\n",
       "    .dataframe tbody tr th:only-of-type {\n",
       "        vertical-align: middle;\n",
       "    }\n",
       "\n",
       "    .dataframe tbody tr th {\n",
       "        vertical-align: top;\n",
       "    }\n",
       "\n",
       "    .dataframe thead th {\n",
       "        text-align: right;\n",
       "    }\n",
       "</style>\n",
       "<table border=\"1\" class=\"dataframe\">\n",
       "  <thead>\n",
       "    <tr style=\"text-align: right;\">\n",
       "      <th></th>\n",
       "      <th>user_id</th>\n",
       "      <th>item_id</th>\n",
       "      <th>show_timestamp</th>\n",
       "      <th>show_duration</th>\n",
       "    </tr>\n",
       "  </thead>\n",
       "  <tbody>\n",
       "    <tr>\n",
       "      <th>0</th>\n",
       "      <td>912948920</td>\n",
       "      <td>1587935070</td>\n",
       "      <td>1119307</td>\n",
       "      <td>323</td>\n",
       "    </tr>\n",
       "    <tr>\n",
       "      <th>1</th>\n",
       "      <td>1882728205</td>\n",
       "      <td>1466874188</td>\n",
       "      <td>1115796</td>\n",
       "      <td>1428</td>\n",
       "    </tr>\n",
       "    <tr>\n",
       "      <th>2</th>\n",
       "      <td>382105433</td>\n",
       "      <td>276839040</td>\n",
       "      <td>1116585</td>\n",
       "      <td>921</td>\n",
       "    </tr>\n",
       "  </tbody>\n",
       "</table>\n",
       "</div>"
      ],
      "text/plain": [
       "      user_id     item_id  show_timestamp  show_duration\n",
       "0   912948920  1587935070         1119307            323\n",
       "1  1882728205  1466874188         1115796           1428\n",
       "2   382105433   276839040         1116585            921"
      ]
     },
     "execution_count": 8,
     "metadata": {},
     "output_type": "execute_result"
    }
   ],
   "source": [
    "user_item_views_df = pd.read_csv('/usr/share/data_store/user_item_views.zip', compression='zip')\n",
    "print(user_item_views_df.shape)\n",
    "user_item_views_df.head(3)"
   ]
  },
  {
   "cell_type": "markdown",
   "metadata": {},
   "source": [
    "Для трансформации в csr создаём индексы"
   ]
  },
  {
   "cell_type": "code",
   "execution_count": 9,
   "metadata": {},
   "outputs": [
    {
     "name": "stdout",
     "output_type": "stream",
     "text": [
      "Индекс создан: 168756 строк 9991 столбцов\n"
     ]
    }
   ],
   "source": [
    "unique_users = user_item_views_df.user_id.unique()\n",
    "unique_items = user_item_views_df.item_id.unique()\n",
    "item_to_id = {j: i for i, j in enumerate(unique_items)}\n",
    "id_to_item = {j: i for i, j in item_to_id.items()}\n",
    "user_to_id = {j: i for i, j in enumerate(unique_users)}\n",
    "print('Индекс создан: %d строк %d столбцов' % (len(user_to_id), len(item_to_id)))"
   ]
  },
  {
   "cell_type": "code",
   "execution_count": 10,
   "metadata": {},
   "outputs": [
    {
     "data": {
      "text/plain": [
       "168756"
      ]
     },
     "execution_count": 10,
     "metadata": {},
     "output_type": "execute_result"
    }
   ],
   "source": [
    "len(user_to_id)"
   ]
  },
  {
   "cell_type": "markdown",
   "metadata": {},
   "source": [
    "## Трансформация в разреженная матрица\n",
    "\n",
    "Для каждого пользователя оставляем top-20 последних просмотров"
   ]
  },
  {
   "cell_type": "code",
   "execution_count": 11,
   "metadata": {},
   "outputs": [
    {
     "name": "stdout",
     "output_type": "stream",
     "text": [
      "Данные сохранены в train_set_2020-12-07.npz\n",
      "CPU times: user 6.37 s, sys: 136 ms, total: 6.51 s\n",
      "Wall time: 6.55 s\n"
     ]
    }
   ],
   "source": [
    "%%time\n",
    "HISTORY_TOP = 20\n",
    "user_item_views_df['rank'] = (\n",
    "    user_item_views_df\n",
    "    .groupby(by=['user_id'])['show_timestamp']\n",
    "    .rank(method='first', ascending=False)\n",
    ")\n",
    "ui_slim_df = user_item_views_df[user_item_views_df['rank'] < HISTORY_TOP][['user_id', 'item_id']]\n",
    "num_rows = len(user_to_id)\n",
    "num_cols = len(item_to_id)\n",
    "entries = np.ones(ui_slim_df.shape[0])\n",
    "rows = tuple(user_to_id[i] for i in ui_slim_df.user_id.values)\n",
    "cols = tuple(item_to_id[i] for i in ui_slim_df.item_id.values)\n",
    "\n",
    "train_set_csr = csr_matrix(\n",
    "    (entries, (rows, cols)),\n",
    "    shape=(num_rows, num_cols),\n",
    "    dtype=np.float32\n",
    ")\n",
    "train_set_csr\n",
    "save_npz(f'train_set_{DT}.npz', train_set_csr)\n",
    "print('Данные сохранены в %s' % f'train_set_{DT}.npz')"
   ]
  },
  {
   "cell_type": "code",
   "execution_count": 12,
   "metadata": {},
   "outputs": [
    {
     "data": {
      "text/plain": [
       "<168756x9991 sparse matrix of type '<class 'numpy.float32'>'\n",
       "\twith 1433407 stored elements in Compressed Sparse Row format>"
      ]
     },
     "execution_count": 12,
     "metadata": {},
     "output_type": "execute_result"
    }
   ],
   "source": [
    "train_set_csr"
   ]
  },
  {
   "cell_type": "markdown",
   "metadata": {},
   "source": [
    "# Обучение модели"
   ]
  },
  {
   "cell_type": "code",
   "execution_count": 13,
   "metadata": {},
   "outputs": [
    {
     "name": "stderr",
     "output_type": "stream",
     "text": [
      "WARNING:root:OpenBLAS detected. Its highly recommend to set the environment variable 'export OPENBLAS_NUM_THREADS=1' to disable its internal multithreading\n"
     ]
    },
    {
     "data": {
      "application/vnd.jupyter.widget-view+json": {
       "model_id": "a552a6d71a434ac5ac31973b1a051d6f",
       "version_major": 2,
       "version_minor": 0
      },
      "text/plain": [
       "HBox(children=(HTML(value=''), FloatProgress(value=0.0, max=1.0), HTML(value='')))"
      ]
     },
     "metadata": {},
     "output_type": "display_data"
    },
    {
     "name": "stdout",
     "output_type": "stream",
     "text": [
      "\n"
     ]
    }
   ],
   "source": [
    "from implicit.als import AlternatingLeastSquares\n",
    "\n",
    "implict_als_params = {'factors': 4, 'iterations': 1}\n",
    "\n",
    "model = AlternatingLeastSquares(**implict_als_params)\n",
    "\n",
    "# транспонируем обязательно!\n",
    "model.fit(train_set_csr.T.tocsr())"
   ]
  },
  {
   "cell_type": "markdown",
   "metadata": {},
   "source": [
    "## Пример работы модели"
   ]
  },
  {
   "cell_type": "code",
   "execution_count": 14,
   "metadata": {},
   "outputs": [
    {
     "data": {
      "text/html": [
       "<div>\n",
       "<style scoped>\n",
       "    .dataframe tbody tr th:only-of-type {\n",
       "        vertical-align: middle;\n",
       "    }\n",
       "\n",
       "    .dataframe tbody tr th {\n",
       "        vertical-align: top;\n",
       "    }\n",
       "\n",
       "    .dataframe thead th {\n",
       "        text-align: right;\n",
       "    }\n",
       "</style>\n",
       "<table border=\"1\" class=\"dataframe\">\n",
       "  <thead>\n",
       "    <tr style=\"text-align: right;\">\n",
       "      <th></th>\n",
       "      <th>item_id</th>\n",
       "      <th>title</th>\n",
       "    </tr>\n",
       "  </thead>\n",
       "  <tbody>\n",
       "    <tr>\n",
       "      <th>3916</th>\n",
       "      <td>622870895</td>\n",
       "      <td>Защитник</td>\n",
       "    </tr>\n",
       "    <tr>\n",
       "      <th>4319</th>\n",
       "      <td>955291410</td>\n",
       "      <td>Последствия</td>\n",
       "    </tr>\n",
       "    <tr>\n",
       "      <th>8392</th>\n",
       "      <td>770977699</td>\n",
       "      <td>Роковое влечение</td>\n",
       "    </tr>\n",
       "    <tr>\n",
       "      <th>13349</th>\n",
       "      <td>1939981791</td>\n",
       "      <td>Выбор</td>\n",
       "    </tr>\n",
       "    <tr>\n",
       "      <th>25273</th>\n",
       "      <td>1245146184</td>\n",
       "      <td>Неистовый</td>\n",
       "    </tr>\n",
       "    <tr>\n",
       "      <th>25990</th>\n",
       "      <td>1496630533</td>\n",
       "      <td>Лицо со шрамом</td>\n",
       "    </tr>\n",
       "    <tr>\n",
       "      <th>27442</th>\n",
       "      <td>157249585</td>\n",
       "      <td>Капоне. Лицо со шрамом</td>\n",
       "    </tr>\n",
       "  </tbody>\n",
       "</table>\n",
       "</div>"
      ],
      "text/plain": [
       "          item_id                   title\n",
       "3916    622870895                Защитник\n",
       "4319    955291410             Последствия\n",
       "8392    770977699        Роковое влечение\n",
       "13349  1939981791                   Выбор\n",
       "25273  1245146184               Неистовый\n",
       "25990  1496630533          Лицо со шрамом\n",
       "27442   157249585  Капоне. Лицо со шрамом"
      ]
     },
     "execution_count": 14,
     "metadata": {},
     "output_type": "execute_result"
    }
   ],
   "source": [
    "def id_to_content_df(ids: np.array, content_df: pd.DataFrame, id_to_item):\n",
    "    items = tuple(id_to_item[i] for i in ids)\n",
    "    result_df = content_catalog[\n",
    "        content_catalog.item_id.isin(items)\n",
    "    ]\n",
    "    return result_df\n",
    "\n",
    "content_catalog = pd.read_csv('/usr/share/data_store/content_catalog.zip', compression='zip')\n",
    "\n",
    "random_history = train_set_csr[\n",
    "    np.random.randint(low=0, high=train_set_csr.shape[0])\n",
    "]\n",
    "\n",
    "id_to_content_df(random_history.nonzero()[1], content_catalog, id_to_item)"
   ]
  },
  {
   "cell_type": "markdown",
   "metadata": {},
   "source": [
    "Проверим, что рекоммендует модель"
   ]
  },
  {
   "cell_type": "code",
   "execution_count": 15,
   "metadata": {},
   "outputs": [
    {
     "data": {
      "text/html": [
       "<div>\n",
       "<style scoped>\n",
       "    .dataframe tbody tr th:only-of-type {\n",
       "        vertical-align: middle;\n",
       "    }\n",
       "\n",
       "    .dataframe tbody tr th {\n",
       "        vertical-align: top;\n",
       "    }\n",
       "\n",
       "    .dataframe thead th {\n",
       "        text-align: right;\n",
       "    }\n",
       "</style>\n",
       "<table border=\"1\" class=\"dataframe\">\n",
       "  <thead>\n",
       "    <tr style=\"text-align: right;\">\n",
       "      <th></th>\n",
       "      <th>item_id</th>\n",
       "      <th>title</th>\n",
       "    </tr>\n",
       "  </thead>\n",
       "  <tbody>\n",
       "    <tr>\n",
       "      <th>4098</th>\n",
       "      <td>984316348</td>\n",
       "      <td>Гарри Поттер и Принц-полукровка</td>\n",
       "    </tr>\n",
       "    <tr>\n",
       "      <th>7951</th>\n",
       "      <td>1619286035</td>\n",
       "      <td>Гарри Поттер и Кубок огня</td>\n",
       "    </tr>\n",
       "    <tr>\n",
       "      <th>10411</th>\n",
       "      <td>1776502261</td>\n",
       "      <td>Гарри Поттер и философский камень</td>\n",
       "    </tr>\n",
       "    <tr>\n",
       "      <th>10508</th>\n",
       "      <td>401051817</td>\n",
       "      <td>Гарри Поттер и Орден Феникса</td>\n",
       "    </tr>\n",
       "    <tr>\n",
       "      <th>16205</th>\n",
       "      <td>1687588185</td>\n",
       "      <td>Щенячий патруль: Мегащенки</td>\n",
       "    </tr>\n",
       "    <tr>\n",
       "      <th>26561</th>\n",
       "      <td>1729092206</td>\n",
       "      <td>Гарри Поттер и узник Азкабана</td>\n",
       "    </tr>\n",
       "    <tr>\n",
       "      <th>27855</th>\n",
       "      <td>1694481414</td>\n",
       "      <td>Гарри Поттер и Дары Смерти: Часть I</td>\n",
       "    </tr>\n",
       "    <tr>\n",
       "      <th>28796</th>\n",
       "      <td>538560695</td>\n",
       "      <td>Разговорник</td>\n",
       "    </tr>\n",
       "    <tr>\n",
       "      <th>28958</th>\n",
       "      <td>1376675893</td>\n",
       "      <td>Зверополис</td>\n",
       "    </tr>\n",
       "    <tr>\n",
       "      <th>30121</th>\n",
       "      <td>231135289</td>\n",
       "      <td>Гудбай, Америка</td>\n",
       "    </tr>\n",
       "  </tbody>\n",
       "</table>\n",
       "</div>"
      ],
      "text/plain": [
       "          item_id                                title\n",
       "4098    984316348      Гарри Поттер и Принц-полукровка\n",
       "7951   1619286035            Гарри Поттер и Кубок огня\n",
       "10411  1776502261    Гарри Поттер и философский камень\n",
       "10508   401051817         Гарри Поттер и Орден Феникса\n",
       "16205  1687588185           Щенячий патруль: Мегащенки\n",
       "26561  1729092206        Гарри Поттер и узник Азкабана\n",
       "27855  1694481414  Гарри Поттер и Дары Смерти: Часть I\n",
       "28796   538560695                          Разговорник\n",
       "28958  1376675893                           Зверополис\n",
       "30121   231135289                      Гудбай, Америка"
      ]
     },
     "execution_count": 15,
     "metadata": {},
     "output_type": "execute_result"
    }
   ],
   "source": [
    "recommends = model.recommend(\n",
    "            userid = 0,\n",
    "            user_items=random_history,\n",
    "            N=10,\n",
    "            filter_already_liked_items=True,\n",
    "            recalculate_user=True\n",
    ")\n",
    "id_to_content_df([rec[0] for rec in recommends], content_catalog, id_to_item)"
   ]
  },
  {
   "cell_type": "markdown",
   "metadata": {},
   "source": [
    "# Валидация модели"
   ]
  },
  {
   "cell_type": "code",
   "execution_count": 17,
   "metadata": {},
   "outputs": [
    {
     "name": "stdout",
     "output_type": "stream",
     "text": [
      "13163 13163\n"
     ]
    }
   ],
   "source": [
    "with open('/usr/share/data_store/ground_truth_dataset.pkl', 'rb') as f:\n",
    "    ground_truth_dataset = pickle.load(f)\n",
    "with open('/usr/share/data_store/test_dataset.pkl', 'rb') as f:\n",
    "    test_dataset = pickle.load(f)\n",
    "print(len(test_dataset), len(ground_truth_dataset))"
   ]
  },
  {
   "cell_type": "code",
   "execution_count": 18,
   "metadata": {},
   "outputs": [],
   "source": [
    "# test_dataset[1000]"
   ]
  },
  {
   "cell_type": "code",
   "execution_count": 19,
   "metadata": {},
   "outputs": [],
   "source": [
    "# ground_truth_dataset[1000]"
   ]
  },
  {
   "cell_type": "code",
   "execution_count": null,
   "metadata": {},
   "outputs": [],
   "source": []
  },
  {
   "cell_type": "code",
   "execution_count": 20,
   "metadata": {},
   "outputs": [
    {
     "name": "stdout",
     "output_type": "stream",
     "text": [
      "13163\n"
     ]
    }
   ],
   "source": [
    "def get_als_action_history_vector(item_to_id: Dict[int, int], action_history, binary=True) -> np.ndarray:\n",
    "    \"\"\"Получить историю действий для ALS\n",
    "\n",
    "    :param item_to_id: справочник контента ALS\n",
    "    :return:\n",
    "    \"\"\"\n",
    "    als_action_history_vector = np.zeros(len(item_to_id), dtype=int)\n",
    "    for iid, item_attr in action_history.items():\n",
    "        if iid in item_to_id.keys():\n",
    "            if binary:\n",
    "                als_action_history_vector[item_to_id[iid]] = 1\n",
    "            else:\n",
    "                als_action_history_vector[item_to_id[iid]] = item_attr\n",
    "    return als_action_history_vector\n",
    "\n",
    "def vectorize_action_history(action_history):\n",
    "    res = get_als_action_history_vector(item_to_id, action_history)\n",
    "    return res\n",
    "\n",
    "with Pool(2) as p:\n",
    "    test_dataset_vectors = p.map(vectorize_action_history, test_dataset)\n",
    "    ground_truth_dataset_vectors = p.map(vectorize_action_history, ground_truth_dataset)\n",
    "print(len(test_dataset_vectors))"
   ]
  },
  {
   "cell_type": "markdown",
   "metadata": {},
   "source": [
    "Готовим данные для мультипроцессинга - объединяем в один массив историю пользователя и валидационные просмотры"
   ]
  },
  {
   "cell_type": "code",
   "execution_count": 21,
   "metadata": {},
   "outputs": [],
   "source": [
    "train_valid_pairs = []\n",
    "for test_user_id in range(len(test_dataset_vectors)):\n",
    "    train_valid_pairs.append((\n",
    "        csr_matrix(test_dataset_vectors[test_user_id]),\n",
    "        ground_truth_dataset_vectors[test_user_id].nonzero()[0]\n",
    "    ))"
   ]
  },
  {
   "cell_type": "code",
   "execution_count": 22,
   "metadata": {},
   "outputs": [
    {
     "name": "stdout",
     "output_type": "stream",
     "text": [
      "0.18354478462356605\n",
      "CPU times: user 483 ms, sys: 194 ms, total: 677 ms\n",
      "Wall time: 34.9 s\n"
     ]
    }
   ],
   "source": [
    "%%time\n",
    "\n",
    "N = 40\n",
    "testing_model = model\n",
    "\n",
    "def top_n_recommends(watch_history):\n",
    "    top_n_result = testing_model.recommend(\n",
    "            userid = 0,\n",
    "            user_items=watch_history[0],\n",
    "            N=N,\n",
    "            filter_already_liked_items=True,\n",
    "            recalculate_user=True\n",
    "    )\n",
    "    hit = 0\n",
    "    if len(watch_history[1]) > 0 and np.intersect1d(watch_history[1], top_n_result).size > 0:\n",
    "        hit = 1\n",
    "    return hit\n",
    "\n",
    "with Pool(2) as p:\n",
    "    hits = p.map(top_n_recommends, train_valid_pairs)\n",
    "print(sum(hits)/len(hits))"
   ]
  },
  {
   "cell_type": "markdown",
   "metadata": {},
   "source": [
    "# Бейзлайны\n",
    "\n",
    "top 100 популярного"
   ]
  },
  {
   "cell_type": "code",
   "execution_count": 23,
   "metadata": {},
   "outputs": [
    {
     "name": "stdout",
     "output_type": "stream",
     "text": [
      "0.18438046038137204\n",
      "CPU times: user 486 ms, sys: 336 ms, total: 823 ms\n",
      "Wall time: 1.42 s\n"
     ]
    }
   ],
   "source": [
    "%%time\n",
    "\n",
    "N = 40\n",
    "content_popularity = np.asarray(train_set_csr.sum(axis=0)).reshape(-1)\n",
    "top_100_popular_items = np.argsort(-content_popularity)[:100]\n",
    "\n",
    "def top_n_recommends(watch_history):\n",
    "    top_n_result = top_100_popular_items[:N]\n",
    "    hit = 0\n",
    "    if len(watch_history[1]) > 0 and np.intersect1d(watch_history[1], top_n_result).size > 0:\n",
    "        hit = 1\n",
    "    return hit\n",
    "\n",
    "with Pool(5) as p:\n",
    "    hits = p.map(top_n_recommends, train_valid_pairs)\n",
    "print(sum(hits)/len(hits))"
   ]
  },
  {
   "cell_type": "markdown",
   "metadata": {},
   "source": [
    "Рандом"
   ]
  },
  {
   "cell_type": "code",
   "execution_count": 24,
   "metadata": {},
   "outputs": [
    {
     "name": "stdout",
     "output_type": "stream",
     "text": [
      "0.0076730228671275545\n",
      "CPU times: user 503 ms, sys: 345 ms, total: 848 ms\n",
      "Wall time: 1.66 s\n"
     ]
    }
   ],
   "source": [
    "%%time\n",
    "\n",
    "N = 40\n",
    "content_popularity = np.asarray(train_set_csr.sum(axis=0)).reshape(-1)\n",
    "all_content = np.array(list(id_to_item.keys()))\n",
    "\n",
    "def top_n_recommends(watch_history):\n",
    "    top_n_result = np.random.choice(all_content, size=N, replace=True)\n",
    "    hit = 0\n",
    "    if len(watch_history[1]) > 0 and np.intersect1d(watch_history[1], top_n_result).size > 0:\n",
    "        hit = 1\n",
    "    return hit\n",
    "\n",
    "with Pool(5) as p:\n",
    "    hits = p.map(top_n_recommends, train_valid_pairs)\n",
    "print(sum(hits)/len(hits))"
   ]
  },
  {
   "cell_type": "markdown",
   "metadata": {},
   "source": [
    "Пример с обучением модели"
   ]
  },
  {
   "cell_type": "code",
   "execution_count": 25,
   "metadata": {},
   "outputs": [
    {
     "data": {
      "application/vnd.jupyter.widget-view+json": {
       "model_id": "99d929998e9c4c7fb102642c1f26c8b0",
       "version_major": 2,
       "version_minor": 0
      },
      "text/plain": [
       "HBox(children=(HTML(value=''), FloatProgress(value=0.0, max=30.0), HTML(value='')))"
      ]
     },
     "metadata": {},
     "output_type": "display_data"
    },
    {
     "name": "stdout",
     "output_type": "stream",
     "text": [
      "\n"
     ]
    }
   ],
   "source": [
    "implict_als_params = {'factors': 20, 'iterations': 30}\n",
    "model = AlternatingLeastSquares(**implict_als_params)\n",
    "# транспонируем обязательно!\n",
    "model.fit(train_set_csr.T.tocsr())"
   ]
  },
  {
   "cell_type": "code",
   "execution_count": 26,
   "metadata": {},
   "outputs": [
    {
     "name": "stdout",
     "output_type": "stream",
     "text": [
      "0.25518498822456886\n",
      "CPU times: user 761 ms, sys: 220 ms, total: 981 ms\n",
      "Wall time: 47.2 s\n"
     ]
    }
   ],
   "source": [
    "%%time\n",
    "\n",
    "N = 50\n",
    "testing_model = model\n",
    "\n",
    "def top_n_recommends(watch_history):\n",
    "    top_n_result = testing_model.recommend(\n",
    "            userid = 0,\n",
    "            user_items=watch_history[0],\n",
    "            N=N,\n",
    "            filter_already_liked_items=True,\n",
    "            recalculate_user=True\n",
    "    )\n",
    "    hit = 0\n",
    "    if len(watch_history[1]) > 0 and np.intersect1d(watch_history[1], top_n_result).size > 0:\n",
    "        hit = 1\n",
    "    return hit\n",
    "\n",
    "with Pool(3) as p:\n",
    "    hits = p.map(top_n_recommends, train_valid_pairs)\n",
    "print(sum(hits)/len(hits))"
   ]
  },
  {
   "cell_type": "markdown",
   "metadata": {},
   "source": [
    "Проверяем рекомендации на обученной модели"
   ]
  },
  {
   "cell_type": "code",
   "execution_count": 27,
   "metadata": {},
   "outputs": [
    {
     "data": {
      "text/html": [
       "<div>\n",
       "<style scoped>\n",
       "    .dataframe tbody tr th:only-of-type {\n",
       "        vertical-align: middle;\n",
       "    }\n",
       "\n",
       "    .dataframe tbody tr th {\n",
       "        vertical-align: top;\n",
       "    }\n",
       "\n",
       "    .dataframe thead th {\n",
       "        text-align: right;\n",
       "    }\n",
       "</style>\n",
       "<table border=\"1\" class=\"dataframe\">\n",
       "  <thead>\n",
       "    <tr style=\"text-align: right;\">\n",
       "      <th></th>\n",
       "      <th>item_id</th>\n",
       "      <th>title</th>\n",
       "    </tr>\n",
       "  </thead>\n",
       "  <tbody>\n",
       "    <tr>\n",
       "      <th>622</th>\n",
       "      <td>39175006</td>\n",
       "      <td>Призраки войны</td>\n",
       "    </tr>\n",
       "    <tr>\n",
       "      <th>2002</th>\n",
       "      <td>438216250</td>\n",
       "      <td>Киллер по вызову</td>\n",
       "    </tr>\n",
       "    <tr>\n",
       "      <th>7722</th>\n",
       "      <td>1724154138</td>\n",
       "      <td>Шахматист</td>\n",
       "    </tr>\n",
       "    <tr>\n",
       "      <th>8198</th>\n",
       "      <td>1402254622</td>\n",
       "      <td>Лето 84</td>\n",
       "    </tr>\n",
       "    <tr>\n",
       "      <th>10898</th>\n",
       "      <td>1528576868</td>\n",
       "      <td>Морские паразиты</td>\n",
       "    </tr>\n",
       "    <tr>\n",
       "      <th>25044</th>\n",
       "      <td>1687494578</td>\n",
       "      <td>Легендарное ограбление</td>\n",
       "    </tr>\n",
       "    <tr>\n",
       "      <th>26996</th>\n",
       "      <td>1782092814</td>\n",
       "      <td>Самый пьяный округ в мире</td>\n",
       "    </tr>\n",
       "    <tr>\n",
       "      <th>27855</th>\n",
       "      <td>1694481414</td>\n",
       "      <td>Гарри Поттер и Дары Смерти: Часть I</td>\n",
       "    </tr>\n",
       "    <tr>\n",
       "      <th>28064</th>\n",
       "      <td>1129147321</td>\n",
       "      <td>Волк с Уолл-стрит</td>\n",
       "    </tr>\n",
       "    <tr>\n",
       "      <th>30562</th>\n",
       "      <td>702331912</td>\n",
       "      <td>Дурная слава</td>\n",
       "    </tr>\n",
       "  </tbody>\n",
       "</table>\n",
       "</div>"
      ],
      "text/plain": [
       "          item_id                                title\n",
       "622      39175006                       Призраки войны\n",
       "2002    438216250                     Киллер по вызову\n",
       "7722   1724154138                            Шахматист\n",
       "8198   1402254622                              Лето 84\n",
       "10898  1528576868                     Морские паразиты\n",
       "25044  1687494578               Легендарное ограбление\n",
       "26996  1782092814            Самый пьяный округ в мире\n",
       "27855  1694481414  Гарри Поттер и Дары Смерти: Часть I\n",
       "28064  1129147321                    Волк с Уолл-стрит\n",
       "30562   702331912                         Дурная слава"
      ]
     },
     "execution_count": 27,
     "metadata": {},
     "output_type": "execute_result"
    }
   ],
   "source": [
    "recommends = model.recommend(\n",
    "            userid = 0,\n",
    "            user_items=random_history,\n",
    "            N=10,\n",
    "            filter_already_liked_items=True,\n",
    "            recalculate_user=True\n",
    ")\n",
    "id_to_content_df([rec[0] for rec in recommends], content_catalog, id_to_item)"
   ]
  },
  {
   "cell_type": "markdown",
   "metadata": {},
   "source": [
    "# Загружаем JSON\n",
    "\n",
    "Нужно распаковать архив и подготовить его для загрузки в Mongo"
   ]
  },
  {
   "cell_type": "code",
   "execution_count": 30,
   "metadata": {},
   "outputs": [],
   "source": [
    "import tarfile\n",
    "with tarfile.open('/usr/share/data_store/json_views.tar.gz', 'r') as json_tar:\n",
    "    json_tar.extractall('/usr/share/data_store')"
   ]
  },
  {
   "cell_type": "markdown",
   "metadata": {},
   "source": [
    "Открываем файл на чтение"
   ]
  },
  {
   "cell_type": "code",
   "execution_count": 31,
   "metadata": {},
   "outputs": [
    {
     "name": "stdout",
     "output_type": "stream",
     "text": [
      "{\"value\": 1950, \"date\": 949614752, \"validation\": 0, \"item_id\": 930420160, \"user_id\": 399644822}\n",
      "\n"
     ]
    }
   ],
   "source": [
    "for line in open('/usr/share/data_store/json_views.json'):\n",
    "    print(line)\n",
    "    break"
   ]
  },
  {
   "cell_type": "markdown",
   "metadata": {},
   "source": [
    "Подключаемся к Mongo"
   ]
  },
  {
   "cell_type": "code",
   "execution_count": 46,
   "metadata": {},
   "outputs": [
    {
     "name": "stdout",
     "output_type": "stream",
     "text": [
      "Collection(Database(MongoClient(host=['mongo_host:27017'], document_class=dict, tz_aware=False, connect=True), 'watch_history_db'), 'watch_history')\n"
     ]
    }
   ],
   "source": [
    "client = MongoClient('mongo_host', 27017)\n",
    "db = client['watch_history_db']\n",
    "collection = db['watch_history']\n",
    "print(collection)"
   ]
  },
  {
   "cell_type": "code",
   "execution_count": 45,
   "metadata": {},
   "outputs": [
    {
     "name": "stdout",
     "output_type": "stream",
     "text": [
      "CPU times: user 1min 30s, sys: 8.94 s, total: 1min 39s\n",
      "Wall time: 2min 15s\n"
     ]
    }
   ],
   "source": [
    "%%time\n",
    "\n",
    "for line in open('/usr/share/data_store/json_views.json'):\n",
    "    json_line = eval(line)\n",
    "    collection.insert_one(json_line)\n",
    "\n",
    "# client.close()"
   ]
  },
  {
   "cell_type": "markdown",
   "metadata": {},
   "source": [
    "Чтобы проверить, что добавление запусей прошло успешно запустите подключение к Mongo\n",
    "\n",
    "```shell\n",
    "python3 upstart.py -s mongo\n",
    "```\n",
    "\n",
    "Далее переключимся в схему данных\n",
    "```shell\n",
    "use watch_history_db\n",
    "```\n",
    "\n",
    "И отобразим несколько записей из загруженного датасета\n",
    "\n",
    "```shell\n",
    "db.watch_history.find().limit(10)\n",
    "```\n",
    "\n",
    "Плстроим выборку пользователей"
   ]
  },
  {
   "cell_type": "code",
   "execution_count": 48,
   "metadata": {},
   "outputs": [
    {
     "name": "stdout",
     "output_type": "stream",
     "text": [
      "[399644822, 968040702, 428847820, 425435267, 605494934, 309946896, 565376993, 613615730, 963328481, 428290214]\n"
     ]
    }
   ],
   "source": [
    "distinct_users = collection.distinct(\"user_id\")\n",
    "print(distinct_users[:10])"
   ]
  },
  {
   "cell_type": "code",
   "execution_count": null,
   "metadata": {},
   "outputs": [],
   "source": []
  }
 ],
 "metadata": {
  "kernelspec": {
   "display_name": "Python 3",
   "language": "python",
   "name": "python3"
  },
  "language_info": {
   "codemirror_mode": {
    "name": "ipython",
    "version": 3
   },
   "file_extension": ".py",
   "mimetype": "text/x-python",
   "name": "python",
   "nbconvert_exporter": "python",
   "pygments_lexer": "ipython3",
   "version": "3.6.9"
  }
 },
 "nbformat": 4,
 "nbformat_minor": 4
}
